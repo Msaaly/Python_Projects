{
 "cells": [
  {
   "cell_type": "code",
   "execution_count": 46,
   "id": "e94bb156-70bf-4d17-b40f-f1f213981dc8",
   "metadata": {},
   "outputs": [
    {
     "name": "stdout",
     "output_type": "stream",
     "text": [
      "Requirement already satisfied: selenium in /Volumes/Mac/opt/anaconda3/lib/python3.12/site-packages (4.27.1)\n",
      "Requirement already satisfied: urllib3<3,>=1.26 in /Volumes/Mac/opt/anaconda3/lib/python3.12/site-packages (from urllib3[socks]<3,>=1.26->selenium) (2.2.2)\n",
      "Requirement already satisfied: trio~=0.17 in /Volumes/Mac/opt/anaconda3/lib/python3.12/site-packages (from selenium) (0.28.0)\n",
      "Requirement already satisfied: trio-websocket~=0.9 in /Volumes/Mac/opt/anaconda3/lib/python3.12/site-packages (from selenium) (0.11.1)\n",
      "Requirement already satisfied: certifi>=2021.10.8 in /Volumes/Mac/opt/anaconda3/lib/python3.12/site-packages (from selenium) (2024.8.30)\n",
      "Requirement already satisfied: typing_extensions~=4.9 in /Volumes/Mac/opt/anaconda3/lib/python3.12/site-packages (from selenium) (4.11.0)\n",
      "Requirement already satisfied: websocket-client~=1.8 in /Volumes/Mac/opt/anaconda3/lib/python3.12/site-packages (from selenium) (1.8.0)\n",
      "Requirement already satisfied: attrs>=23.2.0 in /Volumes/Mac/opt/anaconda3/lib/python3.12/site-packages (from trio~=0.17->selenium) (24.3.0)\n",
      "Requirement already satisfied: sortedcontainers in /Volumes/Mac/opt/anaconda3/lib/python3.12/site-packages (from trio~=0.17->selenium) (2.4.0)\n",
      "Requirement already satisfied: idna in /Volumes/Mac/opt/anaconda3/lib/python3.12/site-packages (from trio~=0.17->selenium) (3.7)\n",
      "Requirement already satisfied: outcome in /Volumes/Mac/opt/anaconda3/lib/python3.12/site-packages (from trio~=0.17->selenium) (1.3.0.post0)\n",
      "Requirement already satisfied: sniffio>=1.3.0 in /Volumes/Mac/opt/anaconda3/lib/python3.12/site-packages (from trio~=0.17->selenium) (1.3.0)\n",
      "Requirement already satisfied: wsproto>=0.14 in /Volumes/Mac/opt/anaconda3/lib/python3.12/site-packages (from trio-websocket~=0.9->selenium) (1.2.0)\n",
      "Requirement already satisfied: pysocks!=1.5.7,<2.0,>=1.5.6 in /Volumes/Mac/opt/anaconda3/lib/python3.12/site-packages (from urllib3[socks]<3,>=1.26->selenium) (1.7.1)\n",
      "Requirement already satisfied: h11<1,>=0.9.0 in /Volumes/Mac/opt/anaconda3/lib/python3.12/site-packages (from wsproto>=0.14->trio-websocket~=0.9->selenium) (0.14.0)\n",
      "Requirement already satisfied: webdriver-manager in /Volumes/Mac/opt/anaconda3/lib/python3.12/site-packages (4.0.2)\n",
      "Requirement already satisfied: requests in /Volumes/Mac/opt/anaconda3/lib/python3.12/site-packages (from webdriver-manager) (2.32.2)\n",
      "Requirement already satisfied: python-dotenv in /Volumes/Mac/opt/anaconda3/lib/python3.12/site-packages (from webdriver-manager) (0.21.0)\n",
      "Requirement already satisfied: packaging in /Volumes/Mac/opt/anaconda3/lib/python3.12/site-packages (from webdriver-manager) (23.2)\n",
      "Requirement already satisfied: charset-normalizer<4,>=2 in /Volumes/Mac/opt/anaconda3/lib/python3.12/site-packages (from requests->webdriver-manager) (2.0.4)\n",
      "Requirement already satisfied: idna<4,>=2.5 in /Volumes/Mac/opt/anaconda3/lib/python3.12/site-packages (from requests->webdriver-manager) (3.7)\n",
      "Requirement already satisfied: urllib3<3,>=1.21.1 in /Volumes/Mac/opt/anaconda3/lib/python3.12/site-packages (from requests->webdriver-manager) (2.2.2)\n",
      "Requirement already satisfied: certifi>=2017.4.17 in /Volumes/Mac/opt/anaconda3/lib/python3.12/site-packages (from requests->webdriver-manager) (2024.8.30)\n"
     ]
    }
   ],
   "source": [
    "!pip install selenium\n",
    "!pip install webdriver-manager"
   ]
  },
  {
   "cell_type": "code",
   "execution_count": 47,
   "id": "84de4d0b-ad24-443a-b166-cf0769806849",
   "metadata": {},
   "outputs": [],
   "source": [
    "#imported required packages\n",
    "from bs4 import BeautifulSoup\n",
    "from selenium import webdriver\n",
    "from selenium.webdriver.chrome.service import Service\n",
    "from selenium.webdriver.common.by import By\n",
    "import time\n",
    "from webdriver_manager.chrome import ChromeDriverManager\n",
    "from bs4 import BeautifulSoup\n",
    "import pandas as pd"
   ]
  },
  {
   "cell_type": "markdown",
   "id": "fcb33e7d-501e-45bb-abbc-45abc45dcec2",
   "metadata": {},
   "source": [
    "## Scraping Rental Data from RentFaster.ca"
   ]
  },
  {
   "cell_type": "code",
   "execution_count": 48,
   "id": "d407d17d-2e5f-4861-863d-c44793420a60",
   "metadata": {},
   "outputs": [],
   "source": [
    "driver = webdriver.Chrome(service=Service(ChromeDriverManager().install()))\n",
    "\n",
    "# Load the page\n",
    "URL_ = 'https://www.rentfaster.ca/ab/calgary/'\n",
    "driver.get(URL_)"
   ]
  },
  {
   "cell_type": "code",
   "execution_count": 49,
   "id": "444a73d3-9eca-44c1-bcca-c5b4bca1e7f4",
   "metadata": {},
   "outputs": [],
   "source": [
    "time.sleep(5) \n",
    "html_content = driver.page_source\n",
    "soup = BeautifulSoup(html_content, 'html.parser')"
   ]
  },
  {
   "cell_type": "code",
   "execution_count": 50,
   "id": "3b58c83f-bef3-4a1f-949e-3d5a0168fb03",
   "metadata": {},
   "outputs": [],
   "source": [
    "prices = soup.find_all(name='span', class_=\"ng-binding ng-scope\")\n",
    "address = soup.find_all(name='small', class_=\"dnt has-text-weight-normal has-text-grey ng-binding\")\n",
    "types = driver.find_elements(By.XPATH, \"//div[contains(@class, 'ng-binding') and contains(@class, 'is-size-6')]\")\n",
    "bedrooms = soup.find_all('div', class_='level-item ng-binding ng-scope')"
   ]
  },
  {
   "cell_type": "code",
   "execution_count": 51,
   "id": "0be75b37-4a93-4072-933f-1276b1fdf4b1",
   "metadata": {},
   "outputs": [],
   "source": [
    "all_prices=[]\n",
    "all_addresses= []\n",
    "all_types=[]\n",
    "all_bedrooms = []\n",
    "\n",
    "\n",
    "# Iterate through each <div> and extract the text from the <span>\n",
    "\n",
    "for item in bedrooms:\n",
    "    span = item.find('span', class_='dnt ng-binding')\n",
    "    if span:\n",
    "        # Extract and clean the text from the <span>\n",
    "        full_text = span.text.strip()\n",
    "        extracted_text = full_text.split('-')[0].strip()  # Take text before '-'\n",
    "        all_bedrooms.append(extracted_text)\n",
    "\n",
    "for building_price in prices:\n",
    "    all_prices.append(building_price.text)\n",
    "\n",
    "for building_address in address:\n",
    "    cleaned_address = ' '.join(building_address.text.split())\n",
    "    all_addresses.append(cleaned_address)\n",
    "\n",
    "\n",
    "for building_type in types:\n",
    "    apartment_text = building_type.text.strip()\n",
    "    all_types.append(apartment_text)"
   ]
  },
  {
   "cell_type": "code",
   "execution_count": 52,
   "id": "0a7a7f02-d848-4289-9bf4-620709e627f6",
   "metadata": {},
   "outputs": [],
   "source": [
    "rental_data = {\n",
    "    \"Address\": all_addresses,\n",
    "    \"Price(CAD)\": all_prices,\n",
    "    \"Bedrooms\": all_bedrooms,\n",
    "    \"Type of Building\": all_types\n",
    "}\n",
    "df_rental = pd.DataFrame(rental_data)"
   ]
  },
  {
   "cell_type": "code",
   "execution_count": 53,
   "id": "21ac5e98-68dc-44d8-aa75-ba1e9d165fb6",
   "metadata": {},
   "outputs": [],
   "source": [
    "output_file = \"apartment_listings.csv\"\n",
    "sheet_name = \"Calgary\"\n",
    "\n",
    "df.to_csv(output_file, index= False)\n",
    "\n",
    "driver.quit()"
   ]
  },
  {
   "cell_type": "markdown",
   "id": "d0b238b5-24ae-4814-bb95-6e51255c9b7f",
   "metadata": {},
   "source": [
    "## Visualizing the Scraped Data"
   ]
  },
  {
   "cell_type": "code",
   "execution_count": 54,
   "id": "1023c593-e3b5-4065-b02d-1572898799ef",
   "metadata": {},
   "outputs": [
    {
     "data": {
      "text/html": [
       "<div>\n",
       "<style scoped>\n",
       "    .dataframe tbody tr th:only-of-type {\n",
       "        vertical-align: middle;\n",
       "    }\n",
       "\n",
       "    .dataframe tbody tr th {\n",
       "        vertical-align: top;\n",
       "    }\n",
       "\n",
       "    .dataframe thead th {\n",
       "        text-align: right;\n",
       "    }\n",
       "</style>\n",
       "<table border=\"1\" class=\"dataframe\">\n",
       "  <thead>\n",
       "    <tr style=\"text-align: right;\">\n",
       "      <th></th>\n",
       "      <th>Address</th>\n",
       "      <th>Price(CAD)</th>\n",
       "      <th>Bedrooms</th>\n",
       "      <th>Type of Building</th>\n",
       "    </tr>\n",
       "  </thead>\n",
       "  <tbody>\n",
       "    <tr>\n",
       "      <th>0</th>\n",
       "      <td>5112 Elbow Drive Southwest, Windsor Park, Calgary</td>\n",
       "      <td>1915</td>\n",
       "      <td>1+den</td>\n",
       "      <td>Apartment</td>\n",
       "    </tr>\n",
       "    <tr>\n",
       "      <th>1</th>\n",
       "      <td>320 19 Ave SW, Mission, Calgary</td>\n",
       "      <td>2030</td>\n",
       "      <td>1</td>\n",
       "      <td>Apartment</td>\n",
       "    </tr>\n",
       "    <tr>\n",
       "      <th>2</th>\n",
       "      <td>100 &amp; 200 Quarry Villas SE, Quarry Park, Calgary</td>\n",
       "      <td>1863</td>\n",
       "      <td>1</td>\n",
       "      <td>Apartment</td>\n",
       "    </tr>\n",
       "    <tr>\n",
       "      <th>3</th>\n",
       "      <td>609 8th Street SW, Downtown, Calgary</td>\n",
       "      <td>1435</td>\n",
       "      <td>1</td>\n",
       "      <td>Apartment</td>\n",
       "    </tr>\n",
       "    <tr>\n",
       "      <th>4</th>\n",
       "      <td>620 10 Avenue SW, Beltline, Calgary</td>\n",
       "      <td>1799</td>\n",
       "      <td>1</td>\n",
       "      <td>Apartment</td>\n",
       "    </tr>\n",
       "  </tbody>\n",
       "</table>\n",
       "</div>"
      ],
      "text/plain": [
       "                                             Address Price(CAD) Bedrooms  \\\n",
       "0  5112 Elbow Drive Southwest, Windsor Park, Calgary       1915    1+den   \n",
       "1                    320 19 Ave SW, Mission, Calgary       2030        1   \n",
       "2   100 & 200 Quarry Villas SE, Quarry Park, Calgary       1863        1   \n",
       "3               609 8th Street SW, Downtown, Calgary       1435        1   \n",
       "4                620 10 Avenue SW, Beltline, Calgary       1799        1   \n",
       "\n",
       "  Type of Building  \n",
       "0        Apartment  \n",
       "1        Apartment  \n",
       "2        Apartment  \n",
       "3        Apartment  \n",
       "4        Apartment  "
      ]
     },
     "execution_count": 54,
     "metadata": {},
     "output_type": "execute_result"
    }
   ],
   "source": [
    "df_rental.head()"
   ]
  },
  {
   "cell_type": "code",
   "execution_count": 120,
   "id": "d6f35e70-b6cd-4f9d-a7db-6b3275e39094",
   "metadata": {},
   "outputs": [],
   "source": [
    "df_rental['Price(CAD)'] = df_rental['Price(CAD)'].astype(str)\n",
    "\n",
    "df_rental['Price(CAD)'] = df_rental['Price(CAD)'].str.replace(',', '').str.strip()  # Remove commas and strip spaces\n",
    "df_rental['Price(CAD)'] = pd.to_numeric(df_rental['Price(CAD)'], errors='coerce')\n",
    "df_rental = df_rental.dropna(subset=['Price(CAD)'])\n",
    "df_rental['Price(CAD)'] = df_rental['Price(CAD)'].astype(int)\n",
    "\n",
    "grouped = df_rental.groupby('Bedrooms')['Price(CAD)'].mean().sort_values(ascending=False)"
   ]
  },
  {
   "cell_type": "code",
   "execution_count": 156,
   "id": "280ac070-92f7-4a6a-a739-0bdaa2d0aa06",
   "metadata": {},
   "outputs": [
    {
     "data": {
      "image/png": "[encoded data removed]",
      "text/plain": [
       "<Figure size 500x300 with 1 Axes>"
      ]
     },
     "metadata": {},
     "output_type": "display_data"
    }
   ],
   "source": [
    "import matplotlib.pyplot as plt\n",
    "import seaborn as sns\n",
    "plt.figure(figsize=(5, 3))\n",
    "sns.barplot(x=grouped.index, y=grouped.values, color=\"skyblue\")\n",
    "\n",
    "plt.xlabel('Bedrooms')\n",
    "plt.ylabel('Average Price (CAD)')\n",
    "plt.title('Average Price by Bedroom Type');"
   ]
  },
  {
   "cell_type": "code",
   "execution_count": 138,
   "id": "f3a320f6-5a4d-4d9b-95cc-1d6ffae441af",
   "metadata": {},
   "outputs": [],
   "source": [
    "building_pct= df_rental.groupby('Type of Building')['Address'].size().reset_index(name='count')\n",
    "building_pct[\"percentage\"] = building_pct['count'] / building_pct['count'].sum() * 100"
   ]
  },
  {
   "cell_type": "code",
   "execution_count": 154,
   "id": "2accb689-97be-4854-ac1e-ad7f79425bcf",
   "metadata": {},
   "outputs": [
    {
     "data": {
      "image/png": "[encoded data removed]",
      "text/plain": [
       "<Figure size 300x300 with 1 Axes>"
      ]
     },
     "metadata": {},
     "output_type": "display_data"
    }
   ],
   "source": [
    "plt.figure(figsize=(3, 3))\n",
    "sns.barplot(x=building_pct['Type of Building'], y=building_pct['percentage'], color='tan')\n",
    "\n",
    "plt.xlabel('Building Type')\n",
    "plt.ylabel('Percentage of Listings(%)')\n",
    "plt.title('Buildings Types');"
   ]
  },
  {
   "cell_type": "code",
   "execution_count": null,
   "id": "cb3e16bb-976c-4cb2-b54d-9e2c94808cc0",
   "metadata": {},
   "outputs": [],
   "source": []
  }
 ],
 "metadata": {
  "kernelspec": {
   "display_name": "Python 3 (ipykernel)",
   "language": "python",
   "name": "python3"
  },
  "language_info": {
   "codemirror_mode": {
    "name": "ipython",
    "version": 3
   },
   "file_extension": ".py",
   "mimetype": "text/x-python",
   "name": "python",
   "nbconvert_exporter": "python",
   "pygments_lexer": "ipython3",
   "version": "3.12.4"
  }
 },
 "nbformat": 4,
 "nbformat_minor": 5
}
