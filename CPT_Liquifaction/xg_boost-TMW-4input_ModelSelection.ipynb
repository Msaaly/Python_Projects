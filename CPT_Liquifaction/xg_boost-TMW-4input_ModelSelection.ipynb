{
 "cells": [
  {
   "cell_type": "markdown",
   "metadata": {
    "colab_type": "text",
    "id": "8FLud1n-3pVm"
   },
   "source": [
    "# XGBoost vs Random Forest"
   ]
  },
  {
   "cell_type": "markdown",
   "metadata": {},
   "source": [
    "##### In this project, using the in-situ CPT data completed on different tailings from different dam sites, the liquifaction potential of material were estimated. Liquefaction potential refers to the likelihood that a soil will lose strength and behave like a liquid when subjected to stress typically during earthquake shaking or other rapid loading. The key inputs for this assessments are cone tip resistence (qt), sleeve friction (fs), Friction ratio (FR%), and classification of tailings. "
   ]
  },
  {
   "cell_type": "markdown",
   "metadata": {
    "colab_type": "text",
    "id": "sO8VPU6n3vES"
   },
   "source": [
    "## Importing the libraries"
   ]
  },
  {
   "cell_type": "code",
   "execution_count": 8,
   "metadata": {
    "colab": {},
    "colab_type": "code",
    "id": "clDSsF7P33NU"
   },
   "outputs": [],
   "source": [
    "#!pip install xgboost"
   ]
  },
  {
   "cell_type": "code",
   "execution_count": 54,
   "metadata": {},
   "outputs": [],
   "source": [
    "import numpy as np\n",
    "import pandas as pd\n",
    "from sklearn.model_selection import cross_val_score, train_test_split\n",
    "from sklearn.ensemble import RandomForestClassifier\n",
    "import xgboost as xgb\n",
    "from sklearn.metrics import mean_squared_error, r2_score\n",
    "from sklearn.model_selection import train_test_split\n",
    "from sklearn.metrics import classification_report, confusion_matrix, accuracy_score\n",
    "import matplotlib.pyplot as plt\n",
    "import seaborn as sns"
   ]
  },
  {
   "cell_type": "markdown",
   "metadata": {
    "colab_type": "text",
    "id": "zGpwK5XD386E"
   },
   "source": [
    "## Importing the dataset"
   ]
  },
  {
   "cell_type": "code",
   "execution_count": 57,
   "metadata": {
    "colab": {},
    "colab_type": "code",
    "id": "Zcksk88u4Ae8"
   },
   "outputs": [
    {
     "data": {
      "text/plain": [
       "(16000, 16)"
      ]
     },
     "execution_count": 57,
     "metadata": {},
     "output_type": "execute_result"
    }
   ],
   "source": [
    "# Load your data\n",
    "df = pd.read_excel(\"All_Cleaned_Summary.xlsx\")\n",
    "df.shape\n",
    "#df.head()"
   ]
  },
  {
   "cell_type": "code",
   "execution_count": 58,
   "metadata": {},
   "outputs": [],
   "source": [
    "required_cols = ['Liquified? (Y/N)', 'qt (MPa)', 'FR (%)', 'fs (MPa)', 'USGS Class.']\n",
    "df = df.dropna(subset=required_cols)\n",
    "\n",
    "# Encode target variable\n",
    "df['Liquified'] = df['Liquified? (Y/N)'].map({'Y': 1, 'N': 0})\n",
    "\n",
    "# One-hot encode USGS Class\n",
    "df['USGS Class.'] = df['USGS Class.'].fillna('Unknown')\n",
    "df_encoded = pd.get_dummies(df, columns=['USGS Class.'])\n",
    "\n",
    "# Define features and target\n",
    "selected_features = ['qt (MPa)', 'FR (%)', 'fs (MPa)'] + [col for col in df_encoded.columns if col.startswith('USGS Class.')]\n",
    "X = df_encoded[selected_features]\n",
    "y = df_encoded['Liquified']"
   ]
  },
  {
   "cell_type": "markdown",
   "metadata": {
    "colab_type": "text",
    "id": "XNn2RnST6_Q-"
   },
   "source": [
    "## Splitting the dataset into the Training set and Test set"
   ]
  },
  {
   "cell_type": "code",
   "execution_count": 62,
   "metadata": {
    "colab": {},
    "colab_type": "code",
    "id": "ajhBL-er7Gry"
   },
   "outputs": [],
   "source": [
    "X_train, X_test, y_train, y_test = train_test_split(X, y, test_size=0.2, random_state=42)"
   ]
  },
  {
   "cell_type": "code",
   "execution_count": 64,
   "metadata": {},
   "outputs": [
    {
     "data": {
      "text/html": [
       "<div>\n",
       "<style scoped>\n",
       "    .dataframe tbody tr th:only-of-type {\n",
       "        vertical-align: middle;\n",
       "    }\n",
       "\n",
       "    .dataframe tbody tr th {\n",
       "        vertical-align: top;\n",
       "    }\n",
       "\n",
       "    .dataframe thead th {\n",
       "        text-align: right;\n",
       "    }\n",
       "</style>\n",
       "<table border=\"1\" class=\"dataframe\">\n",
       "  <thead>\n",
       "    <tr style=\"text-align: right;\">\n",
       "      <th></th>\n",
       "      <th>qt (MPa)</th>\n",
       "      <th>FR (%)</th>\n",
       "      <th>fs (MPa)</th>\n",
       "      <th>USGS Class._CL</th>\n",
       "      <th>USGS Class._GP-SP</th>\n",
       "      <th>USGS Class._ML-CL</th>\n",
       "      <th>USGS Class._SM</th>\n",
       "      <th>USGS Class._SP-ML</th>\n",
       "    </tr>\n",
       "  </thead>\n",
       "  <tbody>\n",
       "    <tr>\n",
       "      <th>8756</th>\n",
       "      <td>4.892759</td>\n",
       "      <td>1.112697</td>\n",
       "      <td>0.054442</td>\n",
       "      <td>False</td>\n",
       "      <td>False</td>\n",
       "      <td>False</td>\n",
       "      <td>True</td>\n",
       "      <td>False</td>\n",
       "    </tr>\n",
       "    <tr>\n",
       "      <th>4660</th>\n",
       "      <td>2.369925</td>\n",
       "      <td>2.012300</td>\n",
       "      <td>0.047690</td>\n",
       "      <td>False</td>\n",
       "      <td>False</td>\n",
       "      <td>False</td>\n",
       "      <td>True</td>\n",
       "      <td>False</td>\n",
       "    </tr>\n",
       "    <tr>\n",
       "      <th>6095</th>\n",
       "      <td>4.287281</td>\n",
       "      <td>3.546303</td>\n",
       "      <td>0.152040</td>\n",
       "      <td>False</td>\n",
       "      <td>False</td>\n",
       "      <td>False</td>\n",
       "      <td>True</td>\n",
       "      <td>False</td>\n",
       "    </tr>\n",
       "    <tr>\n",
       "      <th>304</th>\n",
       "      <td>2.990148</td>\n",
       "      <td>1.819308</td>\n",
       "      <td>0.054400</td>\n",
       "      <td>False</td>\n",
       "      <td>False</td>\n",
       "      <td>False</td>\n",
       "      <td>True</td>\n",
       "      <td>False</td>\n",
       "    </tr>\n",
       "    <tr>\n",
       "      <th>8241</th>\n",
       "      <td>1.488341</td>\n",
       "      <td>1.111750</td>\n",
       "      <td>0.016547</td>\n",
       "      <td>False</td>\n",
       "      <td>False</td>\n",
       "      <td>True</td>\n",
       "      <td>False</td>\n",
       "      <td>False</td>\n",
       "    </tr>\n",
       "  </tbody>\n",
       "</table>\n",
       "</div>"
      ],
      "text/plain": [
       "      qt (MPa)    FR (%)  fs (MPa)  USGS Class._CL  USGS Class._GP-SP  \\\n",
       "8756  4.892759  1.112697  0.054442           False              False   \n",
       "4660  2.369925  2.012300  0.047690           False              False   \n",
       "6095  4.287281  3.546303  0.152040           False              False   \n",
       "304   2.990148  1.819308  0.054400           False              False   \n",
       "8241  1.488341  1.111750  0.016547           False              False   \n",
       "\n",
       "      USGS Class._ML-CL  USGS Class._SM  USGS Class._SP-ML  \n",
       "8756              False            True              False  \n",
       "4660              False            True              False  \n",
       "6095              False            True              False  \n",
       "304               False            True              False  \n",
       "8241               True           False              False  "
      ]
     },
     "execution_count": 64,
     "metadata": {},
     "output_type": "execute_result"
    }
   ],
   "source": [
    "X_test.head()"
   ]
  },
  {
   "cell_type": "markdown",
   "metadata": {
    "colab_type": "text",
    "id": "1Y89ctGZ7Mcx"
   },
   "source": [
    "## Building XGBoost and Random Forest Classifiers"
   ]
  },
  {
   "cell_type": "code",
   "execution_count": 67,
   "metadata": {
    "colab": {},
    "colab_type": "code",
    "id": "ude1J0E47SKN"
   },
   "outputs": [],
   "source": [
    "model_xgb = xgb.XGBClassifier(use_label_encoder=False, eval_metric='logloss', random_state=42)\n",
    "model_rf = RandomForestClassifier(random_state=42)"
   ]
  },
  {
   "cell_type": "markdown",
   "metadata": {},
   "source": [
    "### Perform Cross Validation"
   ]
  },
  {
   "cell_type": "code",
   "execution_count": 70,
   "metadata": {},
   "outputs": [
    {
     "name": "stderr",
     "output_type": "stream",
     "text": [
      "/Volumes/Mac/opt/anaconda3/lib/python3.12/site-packages/xgboost/core.py:158: UserWarning: [19:42:01] WARNING: /Users/runner/work/xgboost/xgboost/src/learner.cc:740: \n",
      "Parameters: { \"use_label_encoder\" } are not used.\n",
      "\n",
      "  warnings.warn(smsg, UserWarning)\n",
      "/Volumes/Mac/opt/anaconda3/lib/python3.12/site-packages/xgboost/core.py:158: UserWarning: [19:42:01] WARNING: /Users/runner/work/xgboost/xgboost/src/learner.cc:740: \n",
      "Parameters: { \"use_label_encoder\" } are not used.\n",
      "\n",
      "  warnings.warn(smsg, UserWarning)\n",
      "/Volumes/Mac/opt/anaconda3/lib/python3.12/site-packages/xgboost/core.py:158: UserWarning: [19:42:01] WARNING: /Users/runner/work/xgboost/xgboost/src/learner.cc:740: \n",
      "Parameters: { \"use_label_encoder\" } are not used.\n",
      "\n",
      "  warnings.warn(smsg, UserWarning)\n",
      "/Volumes/Mac/opt/anaconda3/lib/python3.12/site-packages/xgboost/core.py:158: UserWarning: [19:42:01] WARNING: /Users/runner/work/xgboost/xgboost/src/learner.cc:740: \n",
      "Parameters: { \"use_label_encoder\" } are not used.\n",
      "\n",
      "  warnings.warn(smsg, UserWarning)\n",
      "/Volumes/Mac/opt/anaconda3/lib/python3.12/site-packages/xgboost/core.py:158: UserWarning: [19:42:02] WARNING: /Users/runner/work/xgboost/xgboost/src/learner.cc:740: \n",
      "Parameters: { \"use_label_encoder\" } are not used.\n",
      "\n",
      "  warnings.warn(smsg, UserWarning)\n"
     ]
    },
    {
     "name": "stdout",
     "output_type": "stream",
     "text": [
      "XGBoost CV Accuracy: 0.8679 ± 0.0087\n",
      "Random Forest CV Accuracy: 0.8702 ± 0.0039\n"
     ]
    }
   ],
   "source": [
    "# Evaluate with 5-fold cross-validation using accuracy\n",
    "xgb_cv = cross_val_score(model_xgb, X_train, y_train, cv=5, scoring='accuracy')\n",
    "rf_cv = cross_val_score(model_rf, X_train, y_train, cv=5, scoring='accuracy')\n",
    "\n",
    "print(f\"XGBoost CV Accuracy: {xgb_cv.mean():.4f} ± {xgb_cv.std():.4f}\")\n",
    "print(f\"Random Forest CV Accuracy: {rf_cv.mean():.4f} ± {rf_cv.std():.4f}\")"
   ]
  },
  {
   "cell_type": "code",
   "execution_count": 80,
   "metadata": {},
   "outputs": [],
   "source": [
    "#selected model is Random Forest\n",
    "model = model_rf\n",
    "model.fit(X_train, y_train)  # Train on full training data\n",
    "y_pred = model.predict(X_test)"
   ]
  },
  {
   "cell_type": "code",
   "execution_count": 82,
   "metadata": {},
   "outputs": [
    {
     "name": "stdout",
     "output_type": "stream",
     "text": [
      "Accuracy Score: 0.88\n",
      "Classification Report:\n",
      "              precision    recall  f1-score   support\n",
      "\n",
      "           0       0.87      0.85      0.86      1406\n",
      "           1       0.89      0.90      0.89      1794\n",
      "\n",
      "    accuracy                           0.88      3200\n",
      "   macro avg       0.88      0.88      0.88      3200\n",
      "weighted avg       0.88      0.88      0.88      3200\n",
      "\n"
     ]
    }
   ],
   "source": [
    "print(f\"Accuracy Score: {accuracy_score(y_test, y_pred):.2f}\")\n",
    "\n",
    "# Classification report\n",
    "print(\"Classification Report:\")\n",
    "print(classification_report(y_test, y_pred))"
   ]
  },
  {
   "cell_type": "markdown",
   "metadata": {
    "colab_type": "text",
    "id": "ivqmubzW7dFJ"
   },
   "source": [
    "## Making the Confusion Matrix"
   ]
  },
  {
   "cell_type": "code",
   "execution_count": 84,
   "metadata": {
    "colab": {},
    "colab_type": "code",
    "id": "SUSZ3zm_7gRD"
   },
   "outputs": [
    {
     "data": {
      "image/png": "[encoded data removed]",
      "text/plain": [
       "<Figure size 600x400 with 2 Axes>"
      ]
     },
     "metadata": {},
     "output_type": "display_data"
    }
   ],
   "source": [
    "cm = confusion_matrix(y_test, y_pred)\n",
    "plt.figure(figsize=(6, 4))\n",
    "sns.heatmap(cm, annot=True, fmt='d', cmap='Greens',\n",
    "            xticklabels=['Non-Liquefiable', 'Liquefiable'],\n",
    "            yticklabels=['Non-Liquefiable', 'Liquefiable'])\n",
    "plt.xlabel('Predicted Label')\n",
    "plt.ylabel('True Label')\n",
    "plt.title('Confusion Matrix')\n",
    "plt.tight_layout()\n",
    "plt.savefig('reduced_feature.png')\n",
    "plt.show()"
   ]
  },
  {
   "cell_type": "code",
   "execution_count": 86,
   "metadata": {},
   "outputs": [
    {
     "name": "stdout",
     "output_type": "stream",
     "text": [
      "Accuracy Score: 0.88\n"
     ]
    }
   ],
   "source": [
    "from sklearn.metrics import accuracy_score\n",
    "\n",
    "# Calculate accuracy\n",
    "accuracy = accuracy_score(y_test, y_pred)\n",
    "print(f\"Accuracy Score: {accuracy:.2f}\")"
   ]
  },
  {
   "cell_type": "code",
   "execution_count": 88,
   "metadata": {},
   "outputs": [
    {
     "name": "stdout",
     "output_type": "stream",
     "text": [
      "Precision Score: 0.89\n"
     ]
    }
   ],
   "source": [
    "from sklearn.metrics import precision_score\n",
    "\n",
    "# Calculate precision\n",
    "precision = precision_score(y_test, y_pred)\n",
    "print(f\"Precision Score: {precision:.2f}\")"
   ]
  },
  {
   "cell_type": "code",
   "execution_count": 90,
   "metadata": {},
   "outputs": [
    {
     "data": {
      "image/png": "[encoded data removed]",
      "text/plain": [
       "<Figure size 800x500 with 1 Axes>"
      ]
     },
     "metadata": {},
     "output_type": "display_data"
    }
   ],
   "source": [
    "import matplotlib.pyplot as plt\n",
    "import pandas as pd\n",
    "import seaborn as sns\n",
    "\n",
    "# Assuming model is your trained XGBoost model\n",
    "importances = model.feature_importances_\n",
    "features = X.columns\n",
    "\n",
    "# Create a DataFrame for plotting\n",
    "feat_imp = pd.DataFrame({'Feature': features, 'Importance': importances})\n",
    "feat_imp = feat_imp.sort_values(by='Importance', ascending=False)\n",
    "\n",
    "# Plot\n",
    "plt.figure(figsize=(8, 5))\n",
    "sns.barplot(x='Importance', y='Feature', data=feat_imp)\n",
    "plt.title('Feature Importance (XGBoost)')\n",
    "plt.tight_layout()\n",
    "plt.show()"
   ]
  },
  {
   "cell_type": "markdown",
   "metadata": {},
   "source": [
    "### Test the model on user's Input"
   ]
  },
  {
   "cell_type": "code",
   "execution_count": 93,
   "metadata": {},
   "outputs": [
    {
     "name": "stdout",
     "output_type": "stream",
     "text": [
      "['USGS Class._CL', 'USGS Class._GP-SP', 'USGS Class._ML-CL', 'USGS Class._SM', 'USGS Class._SP-ML']\n"
     ]
    }
   ],
   "source": [
    "print([col for col in df_encoded.columns if col.startswith(\"USGS Class.\")])"
   ]
  },
  {
   "cell_type": "code",
   "execution_count": 95,
   "metadata": {},
   "outputs": [
    {
     "name": "stdout",
     "output_type": "stream",
     "text": [
      "Prediction: Not Liquefied\n"
     ]
    }
   ],
   "source": [
    "# Enter your input\n",
    "custom_input = {\n",
    "    'qt (MPa)': 1.5,\n",
    "    'FR (%)': 60,\n",
    "    'fs (MPa)': 0.1,\n",
    "    'USGS Class._CL': 0,\n",
    "    'USGS Class._GP-SP': 1,\t\t\t\n",
    "    'USGS Class._ML-CL': 0,\n",
    "    'USGS Class._SM': 0,\n",
    "    'USGS Class._SP-ML':0\n",
    "    # Add all other one-hot encoded USGS Class columns with 0 or 1\n",
    "}\n",
    "\n",
    "# Convert to DataFrame and ensure the same column order as training\n",
    "import pandas as pd\n",
    "custom_df = pd.DataFrame([custom_input])\n",
    "\n",
    "# Reorder columns to match training set\n",
    "custom_df = custom_df[X.columns]\n",
    "\n",
    "# Predict using your trained model\n",
    "prediction = model.predict(custom_df)  # assuming your trained model is called 'model'\n",
    "\n",
    "# Output result\n",
    "print(\"Prediction:\", \"Liquefied\" if prediction[0] == 1 else \"Not Liquefied\")"
   ]
  },
  {
   "cell_type": "code",
   "execution_count": null,
   "metadata": {},
   "outputs": [],
   "source": []
  },
  {
   "cell_type": "code",
   "execution_count": null,
   "metadata": {},
   "outputs": [],
   "source": []
  }
 ],
 "metadata": {
  "colab": {
   "collapsed_sections": [],
   "name": "xg_boost.ipynb",
   "provenance": []
  },
  "kernelspec": {
   "display_name": "Python 3 (ipykernel)",
   "language": "python",
   "name": "python3"
  },
  "language_info": {
   "codemirror_mode": {
    "name": "ipython",
    "version": 3
   },
   "file_extension": ".py",
   "mimetype": "text/x-python",
   "name": "python",
   "nbconvert_exporter": "python",
   "pygments_lexer": "ipython3",
   "version": "3.12.4"
  }
 },
 "nbformat": 4,
 "nbformat_minor": 4
}
